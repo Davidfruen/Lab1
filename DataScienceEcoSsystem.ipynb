{
 "cells": [
  {
   "cell_type": "markdown",
   "id": "2d54df35-f632-4937-b17b-5e7677227d36",
   "metadata": {},
   "source": [
    "# Data Science Tools and Ecosystem"
   ]
  },
  {
   "cell_type": "markdown",
   "id": "850259af-75d1-40ec-8b60-88a49526b821",
   "metadata": {},
   "source": [
    "In this notebook, Data Science Tools and Ecosystem are summarized. "
   ]
  },
  {
   "cell_type": "markdown",
   "id": "d70bdb4a-2c88-444f-a401-fa4e0778e5df",
   "metadata": {},
   "source": [
    "Some of the popular languages that Data Scientists use are:\n",
    "1. Python\n",
    "2. R\n",
    "3. C++"
   ]
  },
  {
   "cell_type": "markdown",
   "id": "46c2ddba-8009-4af5-a2d3-c8fbca409ce8",
   "metadata": {},
   "source": [
    "Some of the commonly used libraries used by Data Scientists include:\n",
    "1. Pandas\n",
    "2. Scikit-learn\n",
    "3. Numpy"
   ]
  },
  {
   "cell_type": "markdown",
   "id": "505cb25e-9816-43dc-b857-ee18af4a9d87",
   "metadata": {},
   "source": [
    "|Data Scientist Tools|\n",
    "|--------------------|\n",
    "|TensorFlow| \n",
    "|Apache Hadoop| \n",
    "|Apache Spark|"
   ]
  },
  {
   "cell_type": "markdown",
   "id": "d183d50d-6bc9-473d-96fa-f3141897c13c",
   "metadata": {},
   "source": [
    "### Below are a few examples of evaluating arithmetic expressions in Python"
   ]
  },
  {
   "cell_type": "code",
   "execution_count": 7,
   "id": "e7d2e508-521d-4200-acd1-3cad0a73d14c",
   "metadata": {},
   "outputs": [
    {
     "data": {
      "text/plain": [
       "17"
      ]
     },
     "execution_count": 7,
     "metadata": {},
     "output_type": "execute_result"
    }
   ],
   "source": [
    "#This is a simple arithmetic expression to mutiply then add integers.\n",
    "(3*4)+5"
   ]
  },
  {
   "cell_type": "code",
   "execution_count": 9,
   "id": "b2159103-600f-46f6-b8ab-b59b64fb9ec7",
   "metadata": {},
   "outputs": [
    {
     "data": {
      "text/plain": [
       "3.3333333333333335"
      ]
     },
     "execution_count": 9,
     "metadata": {},
     "output_type": "execute_result"
    }
   ],
   "source": [
    "#This will convert 200 minutes to hours by dividing by 60.\n",
    "200 / 60"
   ]
  },
  {
   "cell_type": "markdown",
   "id": "bd173aa7-f38e-4d6e-968f-0a9048af0e8c",
   "metadata": {},
   "source": [
    "**Objectives:**\n",
    "- Do a correct header\n",
    "- Do a ordered list regarding popular languges\n",
    "- Do another ordered list but with libraries used\n",
    "- Do a table\n",
    "- Do a basic arithmetic expression and run it\n",
    "- Do it again but with division."
   ]
  },
  {
   "cell_type": "markdown",
   "id": "039edc85-905f-433f-9344-8a60b7d2b040",
   "metadata": {},
   "source": [
    "## Author\n",
    "David F."
   ]
  },
  {
   "cell_type": "code",
   "execution_count": null,
   "id": "7c38d479-8680-4c31-89bf-c70c615d8443",
   "metadata": {},
   "outputs": [],
   "source": []
  }
 ],
 "metadata": {
  "kernelspec": {
   "display_name": "Python 3 (ipykernel)",
   "language": "python",
   "name": "python3"
  },
  "language_info": {
   "codemirror_mode": {
    "name": "ipython",
    "version": 3
   },
   "file_extension": ".py",
   "mimetype": "text/x-python",
   "name": "python",
   "nbconvert_exporter": "python",
   "pygments_lexer": "ipython3",
   "version": "3.11.9"
  }
 },
 "nbformat": 4,
 "nbformat_minor": 5
}
